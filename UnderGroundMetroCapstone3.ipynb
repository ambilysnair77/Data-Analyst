{
 "cells": [
  {
   "cell_type": "markdown",
   "id": "19d22983",
   "metadata": {},
   "source": [
    "<html><h2> World Under Ground Metro Data Analyse</h2></html>"
   ]
  },
  {
   "cell_type": "code",
   "execution_count": null,
   "id": "b0cb721e",
   "metadata": {},
   "outputs": [],
   "source": [
    "#Load the required libraries\n",
    "import pandas as pd\n",
    "import numpy as np\n",
    "import pandas as pd\n",
    "import matplotlib.pyplot as plt\n",
    "%matplotlib inline\n",
    "import seaborn as sns\n",
    "import plotly.express as px\n",
    "import plotly.graph_objs as go"
   ]
  },
  {
   "cell_type": "markdown",
   "id": "e2168587",
   "metadata": {},
   "source": [
    " <html><h4>About the Attributes</h4></html>"
   ]
  },
  {
   "cell_type": "code",
   "execution_count": null,
   "id": "aaa6ccbe",
   "metadata": {},
   "outputs": [],
   "source": [
    "\n",
    "#city: In which city the metro is located\n",
    "#Country: Which Country\n",
    "#Name: the name of the metro\n",
    "#year:When it was constructed\n",
    "#A year of last expansion\n",
    "#staions:a number of stations\n",
    "#length_km:length of lines in km\n",
    "#annual_ridership_mill:annual ridership of the metro\n",
    "#region:region of metro \n",
    "#df1=pd.read_csv(\"C:\\\\Users\\\\Admin\\\\Downloads\\\\Metro\\\\metro_countries_in_progress.csv\")\n"
   ]
  },
  {
   "cell_type": "code",
   "execution_count": null,
   "id": "9f65c74a",
   "metadata": {},
   "outputs": [],
   "source": [
    "#load the data\n",
    "data_underground_metro=pd.read_csv(\"C:\\\\Users\\\\Admin\\\\Downloads\\\\Metro\\\\metro_countries_cities.csv\")\n",
    "data_underground_metro"
   ]
  },
  {
   "cell_type": "code",
   "execution_count": null,
   "id": "f2551acf",
   "metadata": {},
   "outputs": [],
   "source": [
    "#lets know the number of countries is in the table.\n",
    "print('Number of all the countries which have underground metro:', len(data_underground_metro), '\\n')"
   ]
  },
  {
   "cell_type": "code",
   "execution_count": null,
   "id": "477c994f",
   "metadata": {},
   "outputs": [],
   "source": [
    "#View the data\n",
    "data_underground_metro.head()\n"
   ]
  },
  {
   "cell_type": "code",
   "execution_count": null,
   "id": "b6b81398",
   "metadata": {},
   "outputs": [],
   "source": [
    "#getting basic information\n",
    "data_underground_metro.info()"
   ]
  },
  {
   "cell_type": "code",
   "execution_count": null,
   "id": "07066423",
   "metadata": {},
   "outputs": [],
   "source": [
    "#describe the data\n",
    "data_underground_metro.describe()"
   ]
  },
  {
   "cell_type": "code",
   "execution_count": null,
   "id": "9db23f4f",
   "metadata": {},
   "outputs": [],
   "source": [
    "#to check for the duplicates in data\n",
    "data_underground_metro.duplicated().sum\n"
   ]
  },
  {
   "cell_type": "code",
   "execution_count": null,
   "id": "048e6101",
   "metadata": {},
   "outputs": [],
   "source": [
    "#Detecting the Missing Values\n",
    "data_underground_metro.isna()"
   ]
  },
  {
   "cell_type": "code",
   "execution_count": null,
   "id": "81d6ffb1",
   "metadata": {},
   "outputs": [],
   "source": [
    "#visualising the data"
   ]
  },
  {
   "cell_type": "markdown",
   "id": "dd0ac6c7",
   "metadata": {},
   "source": [
    "<html><h2> 1.Which Continent have most/least number of Underground Metro stations?</h2></html>"
   ]
  },
  {
   "cell_type": "code",
   "execution_count": null,
   "id": "d6be1115",
   "metadata": {},
   "outputs": [],
   "source": [
    "sns.relplot(x=\"year\",y=\"stations\",hue=\"region\",data=data_underground_metro)"
   ]
  },
  {
   "cell_type": "markdown",
   "id": "f1cfd3bd",
   "metadata": {},
   "source": [
    " <html><h2>Analyse</h2><h3>From the above Relational plot Most of the underground metro stations is in the Contient of Asia. and also can find out the\n",
    "    number of stations in each continent and the least number of stations is in the Continent of Africa.</h3>\n",
    "    <h4> The first underground  metro station started in Europe before 1900.So from the begining to around 1930, only Europeans and north Amerian started this metro system.\n",
    "    from 1940 onwards other continents also started to build an underground metro system and now is is gradually increased in the \n",
    "    Continent of Asia,it might be because of increased population in Asia.</h4>\n",
    "    </html>\n"
   ]
  },
  {
   "cell_type": "markdown",
   "id": "89274c84",
   "metadata": {},
   "source": [
    "<html><center><b>*****************************************************************************</b></center></html>"
   ]
  },
  {
   "cell_type": "markdown",
   "id": "3c9ae53a",
   "metadata": {},
   "source": [
    "<html><h2>2.Which country consist of large number of Under ground Metro Stations from the begining?</h2><html>"
   ]
  },
  {
   "cell_type": "code",
   "execution_count": null,
   "id": "ecace6af",
   "metadata": {},
   "outputs": [],
   "source": [
    "#importing library\n",
    "import plotly.graph_objects as go\n",
    "#sorting the number of stations from highest to lowest.\n",
    "top5_country_stations = data_underground_metro.sort_values('stations',ascending=False)[:5].reset_index(drop=True)\n",
    "#top5_country_stations\n",
    "top_no_of_stations=top5_country_stations[\"stations\"]\n",
    "# Creating plot\n",
    "country_data = top5_country_stations [\"country\"]\n",
    "station_data = top5_country_stations [\"stations\"]\n",
    "year_data=top5_country_stations[\"year\"]\n",
    "colors = [\"#1f77b4\", \"#ff7f0e\", \"#2ca02c\", \"#d62728\", \"#8c564b\"]\n",
    "explode = (0.1, 0, 0, 0, 0)  \n",
    "plt.pie(station_data, labels=year_data, explode=explode, colors=colors,\n",
    "autopct='%1.1f%%', shadow=True, startangle=140)\n",
    "plt.legend(country_data,loc=\"upper center\",bbox_to_anchor=(2,1))\n",
    "plt.title(\"Highest Number of Stations with Countries.\")\n",
    "#show the plot.\n",
    "plt.show()\n"
   ]
  },
  {
   "cell_type": "markdown",
   "id": "e9df109f",
   "metadata": {},
   "source": [
    "<html><h2>Analyse</h2><h3>The above Pie diagram shows top 5 countries in each continent which has largest number of stations in each year\n",
    "US have 23.2% metro stations in the begining itself and France also have 16.7% of stations in early 19's. In 1971 china had 20% of metro stations and 1.6% increased in the year of 1993.\n",
    "</h3></html>"
   ]
  },
  {
   "cell_type": "markdown",
   "id": "7fa7c4bd",
   "metadata": {},
   "source": [
    "<html><center><b>*****************************************************************************</b></center></html>"
   ]
  },
  {
   "cell_type": "markdown",
   "id": "5d3b6e40",
   "metadata": {},
   "source": [
    "<html><h2>3.Which city have the highest Annual Rider Ship and Display first 5 top cities which has most number of annual ridership.</h2></html>"
   ]
  },
  {
   "cell_type": "code",
   "execution_count": null,
   "id": "11ca6e28",
   "metadata": {},
   "outputs": [],
   "source": [
    "#sorting anual ridership in million\n",
    "top5_city_annualride = data_underground_metro.sort_values('annual_ridership_mill',ascending=False)[:5].reset_index(drop=True)\n",
    "#assigning sorted value\n",
    "annual_ridership_mill_data = top5_city_annualride['annual_ridership_mill']\n",
    "colors = ['grey' if (s < max(annual_ridership_mill_data)) else 'red' for s in annual_ridership_mill_data]\n",
    "#creating plot\n",
    "fig, ax = plt.subplots(figsize=(10,5))\n",
    "sns.set_style('white')\n",
    "ax=sns.barplot(x='city', y='annual_ridership_mill',\n",
    "               data=top5_city_annualride, palette=colors)\n",
    "plt.title('TOP5 cities which have annual ridership is more', fontsize=25)\n",
    "plt.xlabel(\"City\",fontsize=25)\n",
    "plt.xticks(fontsize=16)\n",
    "plt.ylabel('Number of riders per year', fontsize=20)\n",
    "plt.yticks(fontsize=15)\n",
    "ax.text(x=2.5, y=13.3, s='number of riders',\n",
    "        color='red', size=17, weight='bold')\n",
    "sns.despine(bottom=True)\n",
    "ax.grid(False)\n",
    "ax.tick_params(bottom=False, left=True)\n",
    "#displaying the plot\n",
    "plt.show()"
   ]
  },
  {
   "cell_type": "markdown",
   "id": "8dc34701",
   "metadata": {},
   "source": [
    "<html><h2>Analyse</h2><h3>The above bar plot is explaining that which city contain highest number of ridership per year,\n",
    "that is the most number of people are using the under ground metro is in The City of Shanghai.\n",
    "So the Red color indicates the highest.Most of the top countries are from China, it is bcoz of highest population. The second most city which is Tokyo in Japan.\n",
    "Above 2500 millions of people are travelling in the city of Shanghai.</h3></html>"
   ]
  },
  {
   "cell_type": "markdown",
   "id": "cac883c0",
   "metadata": {},
   "source": [
    "<html><center><b>*****************************************************************************</b></center></html>"
   ]
  },
  {
   "cell_type": "markdown",
   "id": "179fd77d",
   "metadata": {},
   "source": [
    "<html><h2>4.Plot the list of Countries by highest metro system length,number of stations and Annual ridership.</h2></html>"
   ]
  },
  {
   "cell_type": "code",
   "execution_count": null,
   "id": "f36f813c",
   "metadata": {},
   "outputs": [],
   "source": [
    "figure,axes = plt.subplots(1, 3, figsize = (15,5))\n",
    "figure.suptitle('Top countries by metro system length, number of stations and annual ridership')\n",
    "# Dataframe creation\n",
    "length = data_underground_metro.sort_values('length_km',ascending=False)[:10]\n",
    "number_st = data_underground_metro.sort_values('stations',ascending=False)[:10]\n",
    "an_ride = data_underground_metro.sort_values('annual_ridership_mill',ascending=False)[:10]\n",
    "\n",
    "# Visualizing on subplots\n",
    "sns.set_theme(style='whitegrid')\n",
    "\n",
    "sns.barplot(ax=axes[0], data=length, x='country', y='length_km')\n",
    "sns.barplot(ax=axes[1], data=number_st, x='country', y='stations')\n",
    "sns.barplot(ax=axes[2], data=an_ride, x='country', y='annual_ridership_mill')\n",
    "\n",
    "# Remove x-axis label and rotate ticks for the country name to be displayed fully\n",
    "for ax in axes.flatten():\n",
    "    ax.set_xlabel(\"\")\n",
    "    for label in ax.get_xticklabels():\n",
    "        label.set_rotation(70)\n",
    "\n",
    "        # Adjust subplots position\n",
    "plt.subplots_adjust(left=0.1,\n",
    "                    bottom=0.1, \n",
    "                    right=0.9, \n",
    "                    top=0.9, \n",
    "                    wspace=0.7, \n",
    "                    hspace=1)\n"
   ]
  },
  {
   "cell_type": "markdown",
   "id": "0225e8ff",
   "metadata": {},
   "source": [
    "<html><h2>Analyse</h2><h3>The first figure shows the highest length of the under ground metro in each countries. India has longest metro line in the world and the second position is for china.\n",
    "And the length of the Indian under ground metro line is 35000km.</h3>\n",
    "<h3>The second figure tells us which country have the most number of stations, so United States have the most.its above 400 stations.</h3>\n",
    "<h3>The third plot is about howmany peoples are travelling in an Year according to each country. \n",
    "So in country wise Japan has largest number of people who are using under ground metro in each year.</h3>"
   ]
  },
  {
   "cell_type": "markdown",
   "id": "d8cc9d57",
   "metadata": {},
   "source": [
    "<html><center><b>*****************************************************************************</b></center></html>"
   ]
  },
  {
   "cell_type": "markdown",
   "id": "e56795d2",
   "metadata": {},
   "source": [
    "<html><h2>5.Create world map with metro stations distribution color coded using plotly</h2></html>"
   ]
  },
  {
   "cell_type": "code",
   "execution_count": null,
   "id": "62134055",
   "metadata": {},
   "outputs": [],
   "source": [
    "# Create world map with metro stations distribution color coded using plotly\n",
    "import plotly\n",
    "import plotly.express as px\n",
    "\n",
    "fig = px.choropleth(data_underground_metro,\n",
    "                    locations='country',\n",
    "                    locationmode='country names',\n",
    "                    color='stations', \n",
    "                    hover_name='country',\n",
    "                    hover_data=['stations'],\n",
    "                    title = 'Number of metro stations per country',\n",
    "                    color_continuous_scale='reds'\n",
    "                   )\n",
    "# Adjusting map, legend, title placement\n",
    "fig.update_layout(\n",
    "    autosize=False,\n",
    "    width=1200,\n",
    "    height=600,\n",
    "    margin=dict(\n",
    "        l=50,\n",
    "        r=50,\n",
    "        b=100,\n",
    "        t=100,\n",
    "        pad=4\n",
    "    ),\n",
    "\n",
    "      template='seaborn',\n",
    "    paper_bgcolor=\"rgb(255, 255, 255)\",\n",
    "    legend=dict(\n",
    "        orientation=\"v\",\n",
    "        yanchor=\"auto\",\n",
    "        y=1.02,\n",
    "        xanchor=\"right\",\n",
    "        x=1\n",
    "))\n",
    " \n",
    "fig.show()\n"
   ]
  },
  {
   "cell_type": "markdown",
   "id": "6a5415cd",
   "metadata": {},
   "source": [
    " <html><h2>Analyse<h2><h3>The above plot is choropleth map which shows allthe under ground metrostations. It is actually a world map and shows all the continents and countries which have underground metro stations.If we go through on the map we can \n",
    "    identify that particular metro is located in which country and is in which continent.Also above image give the number of stations in each country.</h3><html>"
   ]
  },
  {
   "cell_type": "markdown",
   "id": "d117ca7f",
   "metadata": {},
   "source": [
    "<html><center><b>*****************************************************************************</b></center></html>"
   ]
  },
  {
   "cell_type": "markdown",
   "id": "de4838d7",
   "metadata": {},
   "source": [
    "<html><h2>Uploading another dataset which is related to Above set</h2></html>"
   ]
  },
  {
   "cell_type": "code",
   "execution_count": null,
   "id": "c2d0ffcd",
   "metadata": {},
   "outputs": [],
   "source": [
    "#reading dataset\n",
    "data_underground_metro_progress=pd.read_csv(\"C:\\\\Users\\\\Admin\\\\Downloads\\\\Metro\\\\metro_countries_in_progress.csv\")\n",
    "data_underground_metro_progress\n"
   ]
  },
  {
   "cell_type": "code",
   "execution_count": null,
   "id": "633aa18a",
   "metadata": {},
   "outputs": [],
   "source": [
    "data_underground_metro_progress.head()"
   ]
  },
  {
   "cell_type": "code",
   "execution_count": null,
   "id": "2c301562",
   "metadata": {},
   "outputs": [],
   "source": [
    "data_underground_metro_progress=pd.read_csv(\"C:\\\\Users\\\\Admin\\\\Downloads\\\\Metro\\\\metro_countries_in_progress.csv\",index_col =\"planned_opening\")  \n",
    "# dropping passed values\n",
    "data_underground_metro_progress.drop(0, inplace = True)\n",
    "  \n",
    "# display\n",
    "data_underground_metro_progress"
   ]
  },
  {
   "cell_type": "code",
   "execution_count": null,
   "id": "84ef81d1",
   "metadata": {},
   "outputs": [],
   "source": [
    "data_underground_metro_progress.head()"
   ]
  },
  {
   "cell_type": "code",
   "execution_count": null,
   "id": "337e166a",
   "metadata": {},
   "outputs": [],
   "source": [
    "#Detecting the Missing Values\n",
    "data_underground_metro_progress.isna()"
   ]
  },
  {
   "cell_type": "markdown",
   "id": "e38fb0a1",
   "metadata": {},
   "source": [
    "<html><h2>Data Visualisation</h2></html>"
   ]
  },
  {
   "cell_type": "markdown",
   "id": "542d9c24",
   "metadata": {},
   "source": [
    "<html><h2>6.Which country has the largest numer of metro stations are working in progress and show the corresponding region also.</h2></html>"
   ]
  },
  {
   "cell_type": "code",
   "execution_count": null,
   "id": "61c0cc3d",
   "metadata": {},
   "outputs": [],
   "source": [
    "plt.figure(figsize = (20,5))\n",
    "ax=sns.countplot(x= \"country\",hue=\"region\", data =data_underground_metro_progress)\n",
    "plt.xlabel(\"region\",fontsize=17)\n",
    "plt.ylabel(\"count\", fontsize=17)\n",
    "for p in ax.patches:\n",
    "    ax.annotate(f'\\n{p.get_height()}', (p.get_x()+0.2, p.get_height()), color='black', size=15, ha=\"center\")"
   ]
  },
  {
   "cell_type": "markdown",
   "id": "14d996f5",
   "metadata": {},
   "source": [
    "<html><h2>Analyse</h2><h3> The above countplot describing which region contain more under ground metro working in progress.\n",
    "So here in Asia largest number of metro is under processing countries including, in first position China, second is in India and so on...Least number of metro construction is in North America.</h3><html>"
   ]
  },
  {
   "cell_type": "markdown",
   "id": "4b1a8da7",
   "metadata": {},
   "source": [
    "<html><center><b>*****************************************************************************</b></center></html>"
   ]
  },
  {
   "cell_type": "markdown",
   "id": "b93c3a09",
   "metadata": {},
   "source": [
    "<html><h2>7.In which year the particular underground metro station is started for construction.Visualise the data</h2></html>"
   ]
  },
  {
   "cell_type": "code",
   "execution_count": null,
   "id": "94203de4",
   "metadata": {},
   "outputs": [],
   "source": [
    "sns.scatterplot(data =data_underground_metro_progress, x = \"start_construction\", y = \"name\")\n",
    "plt.show()\n"
   ]
  },
  {
   "cell_type": "markdown",
   "id": "66f76f36",
   "metadata": {},
   "source": [
    "<html><h2>Analyse</h2><h3>Most of the under ground metro construction started in the year between 2014 and 2020. In 2022 only one metro is started to construct.The less number of construction happened in the year of 2020 to 2022, the reason is that because of Covid.</h3></html>"
   ]
  },
  {
   "cell_type": "markdown",
   "id": "75dcd350",
   "metadata": {},
   "source": [
    "<html><center><b>*****************************************************************************</b></center></html>"
   ]
  },
  {
   "cell_type": "markdown",
   "id": "bdeae1c5",
   "metadata": {},
   "source": [
    "<html><h2>8.Plot the under ground Metro stations, and mention in which year these are planned to opening </h2></html>"
   ]
  },
  {
   "cell_type": "code",
   "execution_count": null,
   "id": "d2596770",
   "metadata": {},
   "outputs": [],
   "source": [
    "data_underground_metro_progress['planned_opening'] = data_underground_metro_progress.index\n",
    "sns.scatterplot(data =data_underground_metro_progress, x = \"planned_opening\", y = \"name\")\n",
    "plt.show()"
   ]
  },
  {
   "cell_type": "markdown",
   "id": "ca63ea24",
   "metadata": {},
   "source": [
    "<html><h2>Analyse</h2><h3>Most of the under ground metro are planned to opening in 2022 itself,all the pending opening are assigned to 2022. And in 2023 also number of stations are planned to open. No plan for 2027 and in 2028 two openings are there.</h3></html>"
   ]
  },
  {
   "cell_type": "markdown",
   "id": "c67018b4",
   "metadata": {},
   "source": [
    "<html><center><b>*****************************************************************************</b></center></html>"
   ]
  },
  {
   "cell_type": "markdown",
   "id": "766ea50a",
   "metadata": {},
   "source": [
    "   <html><h2>The Above Analyse is regarding Under Ground Metro and the purpose of the analyse is what are the underground metros in the world in each country, also gone through which underground metro is working on progress, which is going to opening recently...\n",
    "    Also got the idea of which continent,country has the largest number of metrostations and their development also...Ans also under developed continent have less number of metro stations.Covid also affected this construction also, there we can see that openings and contructions are less in covid pandemic time.So it is started to developing these kinds of things in upcoming years....</h2></html>"
   ]
  },
  {
   "cell_type": "code",
   "execution_count": null,
   "id": "eac63515",
   "metadata": {},
   "outputs": [],
   "source": []
  },
  {
   "cell_type": "code",
   "execution_count": null,
   "id": "550ee458",
   "metadata": {},
   "outputs": [],
   "source": []
  },
  {
   "cell_type": "code",
   "execution_count": null,
   "id": "e331891b",
   "metadata": {},
   "outputs": [],
   "source": []
  }
 ],
 "metadata": {
  "kernelspec": {
   "display_name": "Python 3 (ipykernel)",
   "language": "python",
   "name": "python3"
  },
  "language_info": {
   "codemirror_mode": {
    "name": "ipython",
    "version": 3
   },
   "file_extension": ".py",
   "mimetype": "text/x-python",
   "name": "python",
   "nbconvert_exporter": "python",
   "pygments_lexer": "ipython3",
   "version": "3.9.7"
  }
 },
 "nbformat": 4,
 "nbformat_minor": 5
}
